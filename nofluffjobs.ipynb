{
 "cells": [
  {
   "cell_type": "code",
   "execution_count": 207,
   "metadata": {},
   "outputs": [],
   "source": [
    "import requests\n",
    "from bs4 import BeautifulSoup\n",
    "import re\n",
    "from datetime import datetime, timedelta"
   ]
  },
  {
   "cell_type": "code",
   "execution_count": 208,
   "metadata": {},
   "outputs": [],
   "source": [
    "def nofluffjobs_page_job_offers() -> dict:\n",
    "\n",
    "    nofluffjobs_dict = dict()\n",
    "    id_counter = 1\n",
    "\n",
    "    url = \"https://nofluffjobs.com/pl/praca-zdalna/python?criteria=city%3Dwarszawa%20seniority%3Dtrainee,junior%20%20salary<pln12000m&page=1\"\n",
    "\n",
    "    page = requests.get(url)\n",
    "    soup = BeautifulSoup(page.content, \"html.parser\")\n",
    "    results = soup.find(\"div\", class_=\"list-container ng-star-inserted\")\n",
    "    \n",
    "    for job_element in soup.select('a[class*=\"posting-list-item posting-list-item--\"]'):\n",
    "        \n",
    "        \n",
    "        \n",
    "        company_element = job_element.find(\"span\", class_=\"d-block posting-title__company text-truncate\")\n",
    "        job_title_element = job_element.find(\"h3\", class_=\"posting-title__position text-truncate color-main ng-star-inserted\")\n",
    "        if \"Fullstack\" not in job_title_element.text and \"DevOps\" not in job_title_element.text:\n",
    "            link_url = \"http://nofluffjobs.com\" + job_element[\"href\"]\n",
    "            page_job_element = requests.get(link_url)\n",
    "            soup_page = BeautifulSoup(page_job_element.content, \"html.parser\")\n",
    "            position = soup_page.find(\"span\", class_=\"mr-10 font-weight-medium\")\n",
    "            publication_date_element = soup_page.find(\"div\", class_=\"posting-time-row\")\n",
    "            days_after_publication = int(re.findall(r'\\b\\d+\\b', publication_date_element.text.strip())[0])\n",
    "            publication_date = (datetime.today() - (timedelta(days=days_after_publication))).strftime(\"%Y-%m-%d\")\n",
    "            #creation of job offers details dictionary\n",
    "            nofluffjobs_dict[id_counter] = {}\n",
    "            nofluffjobs_dict[id_counter][\"publication_date\"] = publication_date\n",
    "            nofluffjobs_dict[id_counter][\"company\"] = company_element.text.strip()\n",
    "            nofluffjobs_dict[id_counter][\"title\"] = job_title_element.text.strip()\n",
    "            nofluffjobs_dict[id_counter][\"position\"] = position.text.strip()\n",
    "            nofluffjobs_dict[id_counter][\"link_url\"] = link_url\n",
    "\n",
    "            id_counter += 1\n",
    "    return nofluffjobs_dict\n"
   ]
  },
  {
   "cell_type": "code",
   "execution_count": 209,
   "metadata": {},
   "outputs": [],
   "source": [
    "import pandas as pd\n",
    "import numpy as np\n",
    "\n",
    "nofluffjobs_dict = nofluffjobs_page_job_offers()\n",
    "df_raw = pd.DataFrame.from_dict(nofluffjobs_dict, orient=\"index\")\n",
    "df = df_raw.copy()\n",
    "df['publication_date'] = pd.to_datetime(df['publication_date'], infer_datetime_format=True)\n",
    "df.drop_duplicates(subset=['publication_date', 'company', 'title'], inplace=True, ignore_index=True)\n"
   ]
  },
  {
   "cell_type": "code",
   "execution_count": 206,
   "metadata": {},
   "outputs": [
    {
     "name": "stdout",
     "output_type": "stream",
     "text": [
      "<class 'pandas.core.frame.DataFrame'>\n",
      "RangeIndex: 7 entries, 0 to 6\n",
      "Data columns (total 5 columns):\n",
      " #   Column            Non-Null Count  Dtype         \n",
      "---  ------            --------------  -----         \n",
      " 0   publication_date  7 non-null      datetime64[ns]\n",
      " 1   company           7 non-null      object        \n",
      " 2   title             7 non-null      object        \n",
      " 3   position          7 non-null      object        \n",
      " 4   link_url          7 non-null      object        \n",
      "dtypes: datetime64[ns](1), object(4)\n",
      "memory usage: 408.0+ bytes\n"
     ]
    }
   ],
   "source": [
    "df.info()"
   ]
  }
 ],
 "metadata": {
  "kernelspec": {
   "display_name": "Python 3.9.12 ('env': venv)",
   "language": "python",
   "name": "python3"
  },
  "language_info": {
   "codemirror_mode": {
    "name": "ipython",
    "version": 3
   },
   "file_extension": ".py",
   "mimetype": "text/x-python",
   "name": "python",
   "nbconvert_exporter": "python",
   "pygments_lexer": "ipython3",
   "version": "3.9.12"
  },
  "orig_nbformat": 4,
  "vscode": {
   "interpreter": {
    "hash": "da286e30edad18919dcd319d76121a5e0431005884e742e00954fdeb9b06d7d4"
   }
  }
 },
 "nbformat": 4,
 "nbformat_minor": 2
}
