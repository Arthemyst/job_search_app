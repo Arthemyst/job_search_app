{
 "cells": [
  {
   "cell_type": "code",
   "execution_count": 1,
   "metadata": {},
   "outputs": [],
   "source": [
    "import requests\n",
    "from bs4 import BeautifulSoup\n",
    "import re\n",
    "from datetime import datetime, timedelta"
   ]
  },
  {
   "cell_type": "code",
   "execution_count": 6,
   "metadata": {},
   "outputs": [],
   "source": [
    "def bulldog_page_job_offers(\n",
    "    url=\"https://bulldogjob.pl/companies/jobs/s/city,Warszawa,Remote/skills,Python/experienceLevel,junior\",\n",
    ") -> list:\n",
    "\n",
    "    bulldog_list = list()\n",
    "\n",
    "    flag = True\n",
    "    try:\n",
    "        page = requests.get(url)\n",
    "    except requests.exceptions.ConnectionError as err:\n",
    "        flag = False\n",
    "    except requests.exceptions.MissingSchema as err:\n",
    "        flag = False\n",
    "    if flag:\n",
    "        page = requests.get(url)\n",
    "        soup = BeautifulSoup(page.content, \"html.parser\")\n",
    "        results = soup.find(id=\"__next\")\n",
    "        job_elements = results.find_all(\n",
    "            \"div\",\n",
    "            class_=\"py-6 md:py-8 px-8 flex flex-wrap relative bg-white mb-2 rounded-lg shadow\",\n",
    "        )\n",
    "\n",
    "        for job_element in job_elements:\n",
    "            (\n",
    "                publication_date,\n",
    "                company,\n",
    "                job_title,\n",
    "                position,\n",
    "                website_name,\n",
    "                link_url,\n",
    "            ) = get_bulldog_job_details(job_element)\n",
    "            bulldog_dict = dict_creator(\n",
    "                publication_date, company, job_title, position, website_name, link_url\n",
    "            )\n",
    "            bulldog_list.append(bulldog_dict)\n",
    "    return bulldog_list\n"
   ]
  },
  {
   "cell_type": "code",
   "execution_count": 12,
   "metadata": {},
   "outputs": [],
   "source": [
    "def get_bulldog_job_details(job_element):\n",
    "    job_title_element = job_element.find(\n",
    "        \"h3\", class_=\"text-c28 font-medium mb-3 w-full md:hidden\"\n",
    "    )\n",
    "    job_title = job_title_element.text.strip()\n",
    "\n",
    "    position_element = job_element.find(\"p\", class_=\"tracking-05 uppercase md:my-4\")\n",
    "    position = position_element.text.strip().capitalize()\n",
    "\n",
    "    company_element = job_element.find(\n",
    "        \"p\",\n",
    "        class_=\"text-sm md:text-xxs md:text-center my-2 font-medium text-gray-300\",\n",
    "    )\n",
    "    company = company_element.text.strip()\n",
    "\n",
    "    links = job_element.find(\"h3\", class_=\"text-c28 font-medium mb-3 w-full md:hidden\")\n",
    "\n",
    "    for link in links:\n",
    "        link_url = link[\"href\"]\n",
    "    pattern = re.compile(r\"https?://([\\w.\\.\\-]+)\")\n",
    "    website_name = pattern.match(link_url)[0]\n",
    "    page_job_element = requests.get(link_url)\n",
    "    soup_page = BeautifulSoup(page_job_element.content, \"html.parser\")\n",
    "    publication_date_element = soup_page.find(\n",
    "        \"p\", class_=\"text-md xl:text-c22 leading-6\"\n",
    "    )\n",
    "    days_after_publication = int(\n",
    "        re.findall(r\"\\b\\d+\\b\", publication_date_element.text.strip())[0]\n",
    "    )\n",
    "    print(days_after_publication)\n",
    "    publication_date = (\n",
    "        datetime.today() - (timedelta(days=days_after_publication))\n",
    "    ).strftime(\"%Y-%m-%d\")\n",
    "\n",
    "    return (publication_date, company, job_title, position, website_name, link_url)"
   ]
  },
  {
   "cell_type": "code",
   "execution_count": 10,
   "metadata": {},
   "outputs": [],
   "source": [
    "def dict_creator(\n",
    "    publication_date, company, job_title, position, website_name, link_url\n",
    "):\n",
    "    offers_dict = dict()\n",
    "    offers_dict[\"publication_date\"] = publication_date\n",
    "    offers_dict[\"company\"] = company\n",
    "    offers_dict[\"title\"] = job_title\n",
    "    offers_dict[\"position\"] = position\n",
    "    offers_dict[\"website\"] = website_name\n",
    "    offers_dict[\"link_url\"] = link_url\n",
    "\n",
    "    return offers_dict"
   ]
  },
  {
   "cell_type": "code",
   "execution_count": 13,
   "metadata": {},
   "outputs": [
    {
     "name": "stdout",
     "output_type": "stream",
     "text": [
      "6\n",
      "6\n"
     ]
    },
    {
     "ename": "IndexError",
     "evalue": "list index out of range",
     "output_type": "error",
     "traceback": [
      "\u001b[0;31m---------------------------------------------------------------------------\u001b[0m",
      "\u001b[0;31mIndexError\u001b[0m                                Traceback (most recent call last)",
      "\u001b[1;32m/home/pawel/job_search_app/jupyter notebooks/bulldogjob.ipynb Cell 5\u001b[0m in \u001b[0;36m<cell line: 4>\u001b[0;34m()\u001b[0m\n\u001b[1;32m      <a href='vscode-notebook-cell://wsl%2Bubuntu/home/pawel/job_search_app/jupyter%20notebooks/bulldogjob.ipynb#W2sdnNjb2RlLXJlbW90ZQ%3D%3D?line=0'>1</a>\u001b[0m \u001b[39mimport\u001b[39;00m \u001b[39mpandas\u001b[39;00m \u001b[39mas\u001b[39;00m \u001b[39mpd\u001b[39;00m\n\u001b[1;32m      <a href='vscode-notebook-cell://wsl%2Bubuntu/home/pawel/job_search_app/jupyter%20notebooks/bulldogjob.ipynb#W2sdnNjb2RlLXJlbW90ZQ%3D%3D?line=1'>2</a>\u001b[0m \u001b[39mimport\u001b[39;00m \u001b[39mnumpy\u001b[39;00m \u001b[39mas\u001b[39;00m \u001b[39mnp\u001b[39;00m\n\u001b[0;32m----> <a href='vscode-notebook-cell://wsl%2Bubuntu/home/pawel/job_search_app/jupyter%20notebooks/bulldogjob.ipynb#W2sdnNjb2RlLXJlbW90ZQ%3D%3D?line=3'>4</a>\u001b[0m bulldog_list \u001b[39m=\u001b[39m bulldog_page_job_offers()\n\u001b[1;32m      <a href='vscode-notebook-cell://wsl%2Bubuntu/home/pawel/job_search_app/jupyter%20notebooks/bulldogjob.ipynb#W2sdnNjb2RlLXJlbW90ZQ%3D%3D?line=4'>5</a>\u001b[0m df_raw \u001b[39m=\u001b[39m pd\u001b[39m.\u001b[39mDataFrame\u001b[39m.\u001b[39mfrom_records(bulldog_list)\n\u001b[1;32m      <a href='vscode-notebook-cell://wsl%2Bubuntu/home/pawel/job_search_app/jupyter%20notebooks/bulldogjob.ipynb#W2sdnNjb2RlLXJlbW90ZQ%3D%3D?line=5'>6</a>\u001b[0m df \u001b[39m=\u001b[39m df_raw\u001b[39m.\u001b[39mcopy()\n",
      "\u001b[1;32m/home/pawel/job_search_app/jupyter notebooks/bulldogjob.ipynb Cell 5\u001b[0m in \u001b[0;36mbulldog_page_job_offers\u001b[0;34m(url)\u001b[0m\n\u001b[1;32m     <a href='vscode-notebook-cell://wsl%2Bubuntu/home/pawel/job_search_app/jupyter%20notebooks/bulldogjob.ipynb#W2sdnNjb2RlLXJlbW90ZQ%3D%3D?line=17'>18</a>\u001b[0m job_elements \u001b[39m=\u001b[39m results\u001b[39m.\u001b[39mfind_all(\n\u001b[1;32m     <a href='vscode-notebook-cell://wsl%2Bubuntu/home/pawel/job_search_app/jupyter%20notebooks/bulldogjob.ipynb#W2sdnNjb2RlLXJlbW90ZQ%3D%3D?line=18'>19</a>\u001b[0m     \u001b[39m\"\u001b[39m\u001b[39mdiv\u001b[39m\u001b[39m\"\u001b[39m,\n\u001b[1;32m     <a href='vscode-notebook-cell://wsl%2Bubuntu/home/pawel/job_search_app/jupyter%20notebooks/bulldogjob.ipynb#W2sdnNjb2RlLXJlbW90ZQ%3D%3D?line=19'>20</a>\u001b[0m     class_\u001b[39m=\u001b[39m\u001b[39m\"\u001b[39m\u001b[39mpy-6 md:py-8 px-8 flex flex-wrap relative bg-white mb-2 rounded-lg shadow\u001b[39m\u001b[39m\"\u001b[39m,\n\u001b[1;32m     <a href='vscode-notebook-cell://wsl%2Bubuntu/home/pawel/job_search_app/jupyter%20notebooks/bulldogjob.ipynb#W2sdnNjb2RlLXJlbW90ZQ%3D%3D?line=20'>21</a>\u001b[0m )\n\u001b[1;32m     <a href='vscode-notebook-cell://wsl%2Bubuntu/home/pawel/job_search_app/jupyter%20notebooks/bulldogjob.ipynb#W2sdnNjb2RlLXJlbW90ZQ%3D%3D?line=22'>23</a>\u001b[0m \u001b[39mfor\u001b[39;00m job_element \u001b[39min\u001b[39;00m job_elements:\n\u001b[1;32m     <a href='vscode-notebook-cell://wsl%2Bubuntu/home/pawel/job_search_app/jupyter%20notebooks/bulldogjob.ipynb#W2sdnNjb2RlLXJlbW90ZQ%3D%3D?line=23'>24</a>\u001b[0m     (\n\u001b[1;32m     <a href='vscode-notebook-cell://wsl%2Bubuntu/home/pawel/job_search_app/jupyter%20notebooks/bulldogjob.ipynb#W2sdnNjb2RlLXJlbW90ZQ%3D%3D?line=24'>25</a>\u001b[0m         publication_date,\n\u001b[1;32m     <a href='vscode-notebook-cell://wsl%2Bubuntu/home/pawel/job_search_app/jupyter%20notebooks/bulldogjob.ipynb#W2sdnNjb2RlLXJlbW90ZQ%3D%3D?line=25'>26</a>\u001b[0m         company,\n\u001b[1;32m     <a href='vscode-notebook-cell://wsl%2Bubuntu/home/pawel/job_search_app/jupyter%20notebooks/bulldogjob.ipynb#W2sdnNjb2RlLXJlbW90ZQ%3D%3D?line=26'>27</a>\u001b[0m         job_title,\n\u001b[1;32m     <a href='vscode-notebook-cell://wsl%2Bubuntu/home/pawel/job_search_app/jupyter%20notebooks/bulldogjob.ipynb#W2sdnNjb2RlLXJlbW90ZQ%3D%3D?line=27'>28</a>\u001b[0m         position,\n\u001b[1;32m     <a href='vscode-notebook-cell://wsl%2Bubuntu/home/pawel/job_search_app/jupyter%20notebooks/bulldogjob.ipynb#W2sdnNjb2RlLXJlbW90ZQ%3D%3D?line=28'>29</a>\u001b[0m         website_name,\n\u001b[1;32m     <a href='vscode-notebook-cell://wsl%2Bubuntu/home/pawel/job_search_app/jupyter%20notebooks/bulldogjob.ipynb#W2sdnNjb2RlLXJlbW90ZQ%3D%3D?line=29'>30</a>\u001b[0m         link_url,\n\u001b[0;32m---> <a href='vscode-notebook-cell://wsl%2Bubuntu/home/pawel/job_search_app/jupyter%20notebooks/bulldogjob.ipynb#W2sdnNjb2RlLXJlbW90ZQ%3D%3D?line=30'>31</a>\u001b[0m     ) \u001b[39m=\u001b[39m get_bulldog_job_details(job_element)\n\u001b[1;32m     <a href='vscode-notebook-cell://wsl%2Bubuntu/home/pawel/job_search_app/jupyter%20notebooks/bulldogjob.ipynb#W2sdnNjb2RlLXJlbW90ZQ%3D%3D?line=31'>32</a>\u001b[0m     bulldog_dict \u001b[39m=\u001b[39m dict_creator(\n\u001b[1;32m     <a href='vscode-notebook-cell://wsl%2Bubuntu/home/pawel/job_search_app/jupyter%20notebooks/bulldogjob.ipynb#W2sdnNjb2RlLXJlbW90ZQ%3D%3D?line=32'>33</a>\u001b[0m         publication_date, company, job_title, position, website_name, link_url\n\u001b[1;32m     <a href='vscode-notebook-cell://wsl%2Bubuntu/home/pawel/job_search_app/jupyter%20notebooks/bulldogjob.ipynb#W2sdnNjb2RlLXJlbW90ZQ%3D%3D?line=33'>34</a>\u001b[0m     )\n\u001b[1;32m     <a href='vscode-notebook-cell://wsl%2Bubuntu/home/pawel/job_search_app/jupyter%20notebooks/bulldogjob.ipynb#W2sdnNjb2RlLXJlbW90ZQ%3D%3D?line=34'>35</a>\u001b[0m     bulldog_list\u001b[39m.\u001b[39mappend(bulldog_dict)\n",
      "\u001b[1;32m/home/pawel/job_search_app/jupyter notebooks/bulldogjob.ipynb Cell 5\u001b[0m in \u001b[0;36mget_bulldog_job_details\u001b[0;34m(job_element)\u001b[0m\n\u001b[1;32m     <a href='vscode-notebook-cell://wsl%2Bubuntu/home/pawel/job_search_app/jupyter%20notebooks/bulldogjob.ipynb#W2sdnNjb2RlLXJlbW90ZQ%3D%3D?line=22'>23</a>\u001b[0m soup_page \u001b[39m=\u001b[39m BeautifulSoup(page_job_element\u001b[39m.\u001b[39mcontent, \u001b[39m\"\u001b[39m\u001b[39mhtml.parser\u001b[39m\u001b[39m\"\u001b[39m)\n\u001b[1;32m     <a href='vscode-notebook-cell://wsl%2Bubuntu/home/pawel/job_search_app/jupyter%20notebooks/bulldogjob.ipynb#W2sdnNjb2RlLXJlbW90ZQ%3D%3D?line=23'>24</a>\u001b[0m publication_date_element \u001b[39m=\u001b[39m soup_page\u001b[39m.\u001b[39mfind(\n\u001b[1;32m     <a href='vscode-notebook-cell://wsl%2Bubuntu/home/pawel/job_search_app/jupyter%20notebooks/bulldogjob.ipynb#W2sdnNjb2RlLXJlbW90ZQ%3D%3D?line=24'>25</a>\u001b[0m     \u001b[39m\"\u001b[39m\u001b[39mp\u001b[39m\u001b[39m\"\u001b[39m, class_\u001b[39m=\u001b[39m\u001b[39m\"\u001b[39m\u001b[39mtext-gray-300 text-xs xl:text-sm mb-0.5\u001b[39m\u001b[39m\"\u001b[39m\n\u001b[1;32m     <a href='vscode-notebook-cell://wsl%2Bubuntu/home/pawel/job_search_app/jupyter%20notebooks/bulldogjob.ipynb#W2sdnNjb2RlLXJlbW90ZQ%3D%3D?line=25'>26</a>\u001b[0m )\n\u001b[1;32m     <a href='vscode-notebook-cell://wsl%2Bubuntu/home/pawel/job_search_app/jupyter%20notebooks/bulldogjob.ipynb#W2sdnNjb2RlLXJlbW90ZQ%3D%3D?line=26'>27</a>\u001b[0m days_after_publication \u001b[39m=\u001b[39m \u001b[39mint\u001b[39m(\n\u001b[0;32m---> <a href='vscode-notebook-cell://wsl%2Bubuntu/home/pawel/job_search_app/jupyter%20notebooks/bulldogjob.ipynb#W2sdnNjb2RlLXJlbW90ZQ%3D%3D?line=27'>28</a>\u001b[0m     re\u001b[39m.\u001b[39;49mfindall(\u001b[39mr\u001b[39;49m\u001b[39m\"\u001b[39;49m\u001b[39m\\\u001b[39;49m\u001b[39mb\u001b[39;49m\u001b[39m\\\u001b[39;49m\u001b[39md+\u001b[39;49m\u001b[39m\\\u001b[39;49m\u001b[39mb\u001b[39;49m\u001b[39m\"\u001b[39;49m, publication_date_element\u001b[39m.\u001b[39;49mtext\u001b[39m.\u001b[39;49mstrip())[\u001b[39m0\u001b[39;49m]\n\u001b[1;32m     <a href='vscode-notebook-cell://wsl%2Bubuntu/home/pawel/job_search_app/jupyter%20notebooks/bulldogjob.ipynb#W2sdnNjb2RlLXJlbW90ZQ%3D%3D?line=28'>29</a>\u001b[0m )\n\u001b[1;32m     <a href='vscode-notebook-cell://wsl%2Bubuntu/home/pawel/job_search_app/jupyter%20notebooks/bulldogjob.ipynb#W2sdnNjb2RlLXJlbW90ZQ%3D%3D?line=29'>30</a>\u001b[0m \u001b[39mprint\u001b[39m(days_after_publication)\n\u001b[1;32m     <a href='vscode-notebook-cell://wsl%2Bubuntu/home/pawel/job_search_app/jupyter%20notebooks/bulldogjob.ipynb#W2sdnNjb2RlLXJlbW90ZQ%3D%3D?line=30'>31</a>\u001b[0m publication_date \u001b[39m=\u001b[39m (\n\u001b[1;32m     <a href='vscode-notebook-cell://wsl%2Bubuntu/home/pawel/job_search_app/jupyter%20notebooks/bulldogjob.ipynb#W2sdnNjb2RlLXJlbW90ZQ%3D%3D?line=31'>32</a>\u001b[0m     datetime\u001b[39m.\u001b[39mtoday() \u001b[39m-\u001b[39m (timedelta(days\u001b[39m=\u001b[39mdays_after_publication))\n\u001b[1;32m     <a href='vscode-notebook-cell://wsl%2Bubuntu/home/pawel/job_search_app/jupyter%20notebooks/bulldogjob.ipynb#W2sdnNjb2RlLXJlbW90ZQ%3D%3D?line=32'>33</a>\u001b[0m )\u001b[39m.\u001b[39mstrftime(\u001b[39m\"\u001b[39m\u001b[39m%\u001b[39m\u001b[39mY-\u001b[39m\u001b[39m%\u001b[39m\u001b[39mm-\u001b[39m\u001b[39m%d\u001b[39;00m\u001b[39m\"\u001b[39m)\n",
      "\u001b[0;31mIndexError\u001b[0m: list index out of range"
     ]
    }
   ],
   "source": [
    "import pandas as pd\n",
    "import numpy as np\n",
    "\n",
    "bulldog_list = bulldog_page_job_offers()\n",
    "df_raw = pd.DataFrame.from_records(bulldog_list)\n",
    "df = df_raw.copy()\n",
    "df['publication_date'] = pd.to_datetime(df['publication_date'], infer_datetime_format=True)\n",
    "df.drop_duplicates(subset=['publication_date', 'company', 'title'], inplace=True, ignore_index=True)"
   ]
  },
  {
   "cell_type": "code",
   "execution_count": 5,
   "metadata": {},
   "outputs": [
    {
     "data": {
      "text/html": [
       "<div>\n",
       "<style scoped>\n",
       "    .dataframe tbody tr th:only-of-type {\n",
       "        vertical-align: middle;\n",
       "    }\n",
       "\n",
       "    .dataframe tbody tr th {\n",
       "        vertical-align: top;\n",
       "    }\n",
       "\n",
       "    .dataframe thead th {\n",
       "        text-align: right;\n",
       "    }\n",
       "</style>\n",
       "<table border=\"1\" class=\"dataframe\">\n",
       "  <thead>\n",
       "    <tr style=\"text-align: right;\">\n",
       "      <th></th>\n",
       "      <th>publication_date</th>\n",
       "      <th>company</th>\n",
       "      <th>title</th>\n",
       "      <th>position</th>\n",
       "      <th>link_url</th>\n",
       "      <th>website</th>\n",
       "    </tr>\n",
       "  </thead>\n",
       "  <tbody>\n",
       "    <tr>\n",
       "      <th>0</th>\n",
       "      <td>2022-10-18</td>\n",
       "      <td>Accenture Polska</td>\n",
       "      <td>Junior Data Engineer with Python (Communicatio...</td>\n",
       "      <td>Junior</td>\n",
       "      <td>https://bulldogjob.pl/companies/jobs/127078-ju...</td>\n",
       "      <td>https://bulldogjob.pl</td>\n",
       "    </tr>\n",
       "  </tbody>\n",
       "</table>\n",
       "</div>"
      ],
      "text/plain": [
       "  publication_date           company  \\\n",
       "0       2022-10-18  Accenture Polska   \n",
       "\n",
       "                                               title position  \\\n",
       "0  Junior Data Engineer with Python (Communicatio...   Junior   \n",
       "\n",
       "                                            link_url                website  \n",
       "0  https://bulldogjob.pl/companies/jobs/127078-ju...  https://bulldogjob.pl  "
      ]
     },
     "execution_count": 5,
     "metadata": {},
     "output_type": "execute_result"
    }
   ],
   "source": [
    "df"
   ]
  },
  {
   "cell_type": "code",
   "execution_count": null,
   "metadata": {},
   "outputs": [],
   "source": []
  }
 ],
 "metadata": {
  "kernelspec": {
   "display_name": "Python 3.9.12 ('env': venv)",
   "language": "python",
   "name": "python3"
  },
  "language_info": {
   "codemirror_mode": {
    "name": "ipython",
    "version": 3
   },
   "file_extension": ".py",
   "mimetype": "text/x-python",
   "name": "python",
   "nbconvert_exporter": "python",
   "pygments_lexer": "ipython3",
   "version": "3.9.12"
  },
  "orig_nbformat": 4,
  "vscode": {
   "interpreter": {
    "hash": "da286e30edad18919dcd319d76121a5e0431005884e742e00954fdeb9b06d7d4"
   }
  }
 },
 "nbformat": 4,
 "nbformat_minor": 2
}
