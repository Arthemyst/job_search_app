{
 "cells": [
  {
   "cell_type": "code",
   "execution_count": 1,
   "metadata": {},
   "outputs": [],
   "source": [
    "import requests\n",
    "from bs4 import BeautifulSoup\n",
    "import re\n",
    "from datetime import datetime, timedelta"
   ]
  },
  {
   "cell_type": "code",
   "execution_count": 2,
   "metadata": {},
   "outputs": [],
   "source": [
    "def bulldog_page_job_offers() -> list:\n",
    "\n",
    "    bulldog_list = list()\n",
    "\n",
    "    url = \"https://bulldogjob.pl/companies/jobs/s/city,Warszawa,Wrocław,Remote/skills,Python/experienceLevel,junior\"\n",
    "    flag = True\n",
    "    try:\n",
    "        page = requests.get(url)\n",
    "    except requests.exceptions.ConnectionError as err:\n",
    "        flag = False\n",
    "    if flag:\n",
    "        page = requests.get(url)\n",
    "        soup = BeautifulSoup(page.content, \"html.parser\")\n",
    "        results = soup.find(id=\"__next\")\n",
    "        job_elements = results.find_all(\n",
    "            \"div\",\n",
    "            class_=\"py-6 md:py-8 px-8 flex flex-wrap relative bg-white mb-2 rounded-lg shadow\",\n",
    "        )\n",
    "\n",
    "        for job_element in job_elements:\n",
    "            bulldog_dict = dict()\n",
    "            job_title_element = job_element.find(\n",
    "                \"h3\", class_=\"text-c28 font-medium mb-3 w-full md:hidden\"\n",
    "            )\n",
    "            if (\n",
    "                \"Fullstack\" not in job_title_element.text\n",
    "                and \"DevOps\" not in job_title_element.text\n",
    "                and \"Test\" not in job_title_element.text\n",
    "            ):\n",
    "                position_element = job_element.find(\n",
    "                    \"p\", class_=\"tracking-05 uppercase md:my-4\"\n",
    "                )\n",
    "\n",
    "                company_element = job_element.find(\n",
    "                    \"p\",\n",
    "                    class_=\"text-sm md:text-xxs md:text-center my-2 font-medium text-gray-300\",\n",
    "                )\n",
    "\n",
    "                links = job_element.find(\n",
    "                    \"h3\", class_=\"text-c28 font-medium mb-3 w-full md:hidden\"\n",
    "                )\n",
    "\n",
    "                for link in links:\n",
    "                    link_url = link[\"href\"]\n",
    "                pattern = re.compile(r'https?://([\\w.\\.\\-]+)')\n",
    "                website_name = pattern.match(link_url)\n",
    "                page_job_element = requests.get(link_url)\n",
    "                soup_page = BeautifulSoup(page_job_element.content, \"html.parser\")\n",
    "                publication_date_element = soup_page.find(\n",
    "                    \"p\", class_=\"text-gray-300 text-xs xl:text-sm mb-0.5\"\n",
    "                )\n",
    "                days_after_publication = int(\n",
    "                    re.findall(r\"\\b\\d+\\b\", publication_date_element.text.strip())[0]\n",
    "                )\n",
    "                publication_date = (\n",
    "                    datetime.today() - (timedelta(days=days_after_publication))\n",
    "                ).strftime(\"%Y-%m-%d\")\n",
    "\n",
    "                bulldog_dict[\"publication_date\"] = publication_date\n",
    "                bulldog_dict[\"company\"] = company_element.text.strip()\n",
    "                bulldog_dict[\"title\"] = job_title_element.text.strip()\n",
    "                bulldog_dict[\"position\"] = position_element.text.strip().capitalize()\n",
    "                bulldog_dict[\"link_url\"] = link_url\n",
    "                bulldog_dict[\"website\"] = website_name[0]\n",
    "                bulldog_list.append(bulldog_dict)\n",
    "    return bulldog_list\n"
   ]
  },
  {
   "cell_type": "code",
   "execution_count": 3,
   "metadata": {},
   "outputs": [],
   "source": [
    "import pandas as pd\n",
    "import numpy as np\n",
    "\n",
    "bulldog_list = bulldog_page_job_offers()\n",
    "df_raw = pd.DataFrame.from_records(bulldog_list)\n",
    "df = df_raw.copy()\n",
    "df['publication_date'] = pd.to_datetime(df['publication_date'], infer_datetime_format=True)\n",
    "df.drop_duplicates(subset=['publication_date', 'company', 'title'], inplace=True, ignore_index=True)"
   ]
  },
  {
   "cell_type": "code",
   "execution_count": 4,
   "metadata": {},
   "outputs": [
    {
     "data": {
      "text/html": [
       "<div>\n",
       "<style scoped>\n",
       "    .dataframe tbody tr th:only-of-type {\n",
       "        vertical-align: middle;\n",
       "    }\n",
       "\n",
       "    .dataframe tbody tr th {\n",
       "        vertical-align: top;\n",
       "    }\n",
       "\n",
       "    .dataframe thead th {\n",
       "        text-align: right;\n",
       "    }\n",
       "</style>\n",
       "<table border=\"1\" class=\"dataframe\">\n",
       "  <thead>\n",
       "    <tr style=\"text-align: right;\">\n",
       "      <th></th>\n",
       "      <th>publication_date</th>\n",
       "      <th>company</th>\n",
       "      <th>title</th>\n",
       "      <th>position</th>\n",
       "      <th>link_url</th>\n",
       "      <th>website</th>\n",
       "    </tr>\n",
       "  </thead>\n",
       "  <tbody>\n",
       "    <tr>\n",
       "      <th>0</th>\n",
       "      <td>2022-08-04</td>\n",
       "      <td>Accenture Polska</td>\n",
       "      <td>Junior Data Engineer with Python (Communicatio...</td>\n",
       "      <td>Junior</td>\n",
       "      <td>https://bulldogjob.pl/companies/jobs/120362-ju...</td>\n",
       "      <td>https://bulldogjob.pl</td>\n",
       "    </tr>\n",
       "  </tbody>\n",
       "</table>\n",
       "</div>"
      ],
      "text/plain": [
       "  publication_date           company  \\\n",
       "0       2022-08-04  Accenture Polska   \n",
       "\n",
       "                                               title position  \\\n",
       "0  Junior Data Engineer with Python (Communicatio...   Junior   \n",
       "\n",
       "                                            link_url                website  \n",
       "0  https://bulldogjob.pl/companies/jobs/120362-ju...  https://bulldogjob.pl  "
      ]
     },
     "execution_count": 4,
     "metadata": {},
     "output_type": "execute_result"
    }
   ],
   "source": [
    "df"
   ]
  },
  {
   "cell_type": "code",
   "execution_count": null,
   "metadata": {},
   "outputs": [],
   "source": []
  }
 ],
 "metadata": {
  "kernelspec": {
   "display_name": "Python 3.9.12 ('env': venv)",
   "language": "python",
   "name": "python3"
  },
  "language_info": {
   "codemirror_mode": {
    "name": "ipython",
    "version": 3
   },
   "file_extension": ".py",
   "mimetype": "text/x-python",
   "name": "python",
   "nbconvert_exporter": "python",
   "pygments_lexer": "ipython3",
   "version": "3.9.12"
  },
  "orig_nbformat": 4,
  "vscode": {
   "interpreter": {
    "hash": "da286e30edad18919dcd319d76121a5e0431005884e742e00954fdeb9b06d7d4"
   }
  }
 },
 "nbformat": 4,
 "nbformat_minor": 2
}
