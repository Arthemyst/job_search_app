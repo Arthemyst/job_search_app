{
 "cells": [
  {
   "cell_type": "code",
   "execution_count": 13,
   "metadata": {},
   "outputs": [],
   "source": [
    "import requests\n",
    "import sys \n",
    "sys.path.append('..')\n",
    "from bs4 import BeautifulSoup\n",
    "import re\n",
    "from datetime import datetime\n",
    "import pandas as pd\n",
    "import numpy as np\n",
    "import pprint\n",
    "import constants.constants"
   ]
  },
  {
   "cell_type": "code",
   "execution_count": 32,
   "metadata": {},
   "outputs": [],
   "source": [
    "def pracuj_page_job_offers() -> list:\n",
    "    months = {\n",
    "    \"stycznia\": 1,\n",
    "    \"lutego\": 2,\n",
    "    \"marca\": 3,\n",
    "    \"kwietnia\": 4,\n",
    "    \"maja\": 5,\n",
    "    \"czerwca\": 6,\n",
    "    \"lipca\": 7,\n",
    "    \"sierpnia\": 8,\n",
    "    \"września\": 9,\n",
    "    \"października\": 10,\n",
    "    \"listopada\": 11,\n",
    "    \"grudnia\": 12,\n",
    "}\n",
    "    pracuj_list = list()\n",
    "\n",
    "    url = \"https://www.pracuj.pl/praca/python;kw/warszawa;wp?rd=30&et=1%2c17&tc=0%2c3%2c2&ws=0&wm=full-office%2chybrid%2chome-office\"\n",
    "    flag = True\n",
    "    try:\n",
    "        page = requests.get(url)\n",
    "    except requests.exceptions.ConnectionError as err:\n",
    "        flag = False\n",
    "    if flag:\n",
    "        soup = BeautifulSoup(page.content, \"html.parser\")\n",
    "\n",
    "            \n",
    "        for job_element in soup.select('li[class*=\"results__list-container-item\"]'):\n",
    "\n",
    "            pracuj_dict = dict()\n",
    "\n",
    "            link_element = job_element.select('div[class*=\"offer__info\"]')\n",
    "            \n",
    "            if len(link_element) != 0:\n",
    "                job_title_element = job_element.find(\"a\", class_=\"offer-details__title-link\")\n",
    "                if \"Fullstack\" not in job_title_element.text and \"DevOps\" not in job_title_element.text and \"Golang\" not in job_title_element.text and \"Test\" not in job_title_element.text:\n",
    "                    company_element = job_element.find(\"p\", class_=\"offer-company\")\n",
    "                    publication_date_element = job_element.find(\"span\", class_=\"offer-actions__date\")\n",
    "                    publication_date_text = publication_date_element.text.strip().split(' ')[1:]\n",
    "                    month_name = constants.months[publication_date_text[1]]\n",
    "                    # change polish name of month to number ex. sierpnia to 8\n",
    "                    publication_date_text[1] = str(month_name)\n",
    "                    publication_date = '-'.join(publication_date_text)\n",
    "                    publication_date = datetime.strptime(publication_date, \"%d-%m-%Y\").strftime(\"%Y-%m-%d\")\n",
    "\n",
    "                    \n",
    "                    link_url = job_title_element[\"href\"]\n",
    "                    link_pattern = re.compile(r'https?://([\\w.\\.\\-]+)')\n",
    "                    website_name = link_pattern.match(link_url)\n",
    "                    page_job_element = requests.get(link_url)\n",
    "                    soup_page = BeautifulSoup(page_job_element.content, \"html.parser\")\n",
    "                    position = soup_page.select('li[class*=\"offer-view\"]')\n",
    "                    if 'unior' in str(position): \n",
    "                        position_pattern = 'Junior'\n",
    "                    elif 'rainee' in str(position) or 'staż' in str(position):\n",
    "                        position_pattern = 'Trainee'\n",
    "                    else:\n",
    "                        position_pattern = 'no info'\n",
    "\n",
    "                    pracuj_dict[\"publication_date\"] = publication_date\n",
    "                    pracuj_dict[\"company\"] = company_element.text.strip()\n",
    "                    pracuj_dict[\"title\"] = job_title_element.text.strip()\n",
    "                    pracuj_dict[\"position\"] = position_pattern\n",
    "                    pracuj_dict[\"link_url\"] = link_url\n",
    "                    pracuj_dict[\"website\"] = website_name[0]\n",
    "                    pracuj_list.append(pracuj_dict)\n",
    "    return pracuj_list\n",
    "   \n",
    "\n"
   ]
  },
  {
   "cell_type": "code",
   "execution_count": 31,
   "metadata": {},
   "outputs": [
    {
     "name": "stdout",
     "output_type": "stream",
     "text": [
      "[<div class=\"offer__info\">\n",
      "<div class=\"offer-details\">\n",
      "<div class=\"offer-logo\">\n",
      "<a href=\"https://pracodawcy.pracuj.pl/company/1074014825/profile\">\n",
      "<picture>\n",
      "<source media=\"(min-width: 1090px)\" srcset=\"https://logos.gpcdn.pl/loga-firm/1074014825/2c580000-43a8-f403-5268-08d92433fdc5_280x280.jpg?width=65&amp;height=65 1x, https://logos.gpcdn.pl/loga-firm/1074014825/2c580000-43a8-f403-5268-08d92433fdc5_280x280.jpg?width=130&amp;height=130 2x\"/>\n",
      "<img alt=\"logo\" class=\"offer-logo__image\" loading=\"lazy\" src=\"https://logos.gpcdn.pl/loga-firm/1074014825/2c580000-43a8-f403-5268-08d92433fdc5_280x280.jpg\" srcset=\"https://logos.gpcdn.pl/loga-firm/1074014825/2c580000-43a8-f403-5268-08d92433fdc5_280x280.jpg?width=50&amp;height=50 1x, https://logos.gpcdn.pl/loga-firm/1074014825/2c580000-43a8-f403-5268-08d92433fdc5_280x280.jpg?width=100&amp;height=100 2x\"/>\n",
      "</picture>\n",
      "</a>\n",
      "</div>\n",
      "<div class=\"offer-details__text\">\n",
      "<h2 class=\"offer-details__title\">\n",
      "<a class=\"offer-details__title-link\" href=\"https://www.pracuj.pl/praca/business-intelligence-junior-and-mid-level-developer-in-risk-warszawa,oferta,1002064807\">Business Intelligence Junior and Mid level Developer in Risk</a>\n",
      "</h2>\n",
      "<p class=\"offer-company\">\n",
      "<span class=\"offer-company__link-wrapper\"></span>\n",
      "<span class=\"offer-company__wrapper\">\n",
      "<a class=\"offer-company__name\" href=\"https://pracodawcy.pracuj.pl/company/1074014825/profile\">Citi Poland</a>\n",
      "</span>\n",
      "</p>\n",
      "</div>\n",
      "<div class=\"offer-details__badge-wrap offer-details__badge-wrap--superoffer\">\n",
      "<i class=\"mdi mdi-alert-decagram offer-details__badge-icon\"></i>\n",
      "<span class=\"offer-details__badge-name offer-details__badge-name--superoffer\">Super oferta</span>\n",
      "</div>\n",
      "</div>\n",
      "<div class=\"offer-labels__wrapper\">\n",
      "<ul class=\"offer-labels\">\n",
      "<li class=\"offer-labels__item offer-labels__item--location\">\n",
      "<i class=\"mdi mdi-map-marker offer-labels__item-icon\"></i>Warszawa, Wola </li>\n",
      "</ul>\n",
      "<ul class=\"offer-labels\">\n",
      "<li class=\"offer-labels__item\">\n",
      "</li>\n",
      "</ul>\n",
      "</div>\n",
      "<div class=\"offer-description\">\n",
      "<input class=\"offer-description__toggler\" id=\"offer-description---cid-1002064807\" type=\"checkbox\">\n",
      "<label class=\"offer-description__toggler-label\" for=\"offer-description---cid-1002064807\">\n",
      "<i class=\"mdi mdi-chevron-down offer-description__toggler-icon\"></i>\n",
      "</label>\n",
      "<div class=\"offer-description__content-wrap\">\n",
      "<span class=\"offer-description__content\">\n",
      "Your responsibilities, Building interactive Dashboards in Tableau, Programming in Python and VBA, Preparation of standard reports, Designing IT solutions, Creating documentation\n",
      "</span>\n",
      "</div>\n",
      "</input></div>\n",
      "</div>]\n"
     ]
    },
    {
     "ename": "AttributeError",
     "evalue": "module 'constants' has no attribute 'months'",
     "output_type": "error",
     "traceback": [
      "\u001b[0;31m---------------------------------------------------------------------------\u001b[0m",
      "\u001b[0;31mAttributeError\u001b[0m                            Traceback (most recent call last)",
      "\u001b[1;32m/home/pawel/job_search_app/jupyter notebooks/pracuj.ipynb Cell 3\u001b[0m in \u001b[0;36m<cell line: 1>\u001b[0;34m()\u001b[0m\n\u001b[0;32m----> <a href='vscode-notebook-cell://wsl%2Bubuntu/home/pawel/job_search_app/jupyter%20notebooks/pracuj.ipynb#W2sdnNjb2RlLXJlbW90ZQ%3D%3D?line=0'>1</a>\u001b[0m pracuj_list \u001b[39m=\u001b[39m pracuj_page_job_offers()\n\u001b[1;32m      <a href='vscode-notebook-cell://wsl%2Bubuntu/home/pawel/job_search_app/jupyter%20notebooks/pracuj.ipynb#W2sdnNjb2RlLXJlbW90ZQ%3D%3D?line=1'>2</a>\u001b[0m df_raw \u001b[39m=\u001b[39m pd\u001b[39m.\u001b[39mDataFrame\u001b[39m.\u001b[39mfrom_records(pracuj_list)\n\u001b[1;32m      <a href='vscode-notebook-cell://wsl%2Bubuntu/home/pawel/job_search_app/jupyter%20notebooks/pracuj.ipynb#W2sdnNjb2RlLXJlbW90ZQ%3D%3D?line=2'>3</a>\u001b[0m df \u001b[39m=\u001b[39m df_raw\u001b[39m.\u001b[39mcopy()\n",
      "\u001b[1;32m/home/pawel/job_search_app/jupyter notebooks/pracuj.ipynb Cell 3\u001b[0m in \u001b[0;36mpracuj_page_job_offers\u001b[0;34m()\u001b[0m\n\u001b[1;32m     <a href='vscode-notebook-cell://wsl%2Bubuntu/home/pawel/job_search_app/jupyter%20notebooks/pracuj.ipynb#W2sdnNjb2RlLXJlbW90ZQ%3D%3D?line=23'>24</a>\u001b[0m publication_date_element \u001b[39m=\u001b[39m job_element\u001b[39m.\u001b[39mfind(\u001b[39m\"\u001b[39m\u001b[39mspan\u001b[39m\u001b[39m\"\u001b[39m, class_\u001b[39m=\u001b[39m\u001b[39m\"\u001b[39m\u001b[39moffer-actions__date\u001b[39m\u001b[39m\"\u001b[39m)\n\u001b[1;32m     <a href='vscode-notebook-cell://wsl%2Bubuntu/home/pawel/job_search_app/jupyter%20notebooks/pracuj.ipynb#W2sdnNjb2RlLXJlbW90ZQ%3D%3D?line=24'>25</a>\u001b[0m publication_date_text \u001b[39m=\u001b[39m publication_date_element\u001b[39m.\u001b[39mtext\u001b[39m.\u001b[39mstrip()\u001b[39m.\u001b[39msplit(\u001b[39m'\u001b[39m\u001b[39m \u001b[39m\u001b[39m'\u001b[39m)[\u001b[39m1\u001b[39m:]\n\u001b[0;32m---> <a href='vscode-notebook-cell://wsl%2Bubuntu/home/pawel/job_search_app/jupyter%20notebooks/pracuj.ipynb#W2sdnNjb2RlLXJlbW90ZQ%3D%3D?line=25'>26</a>\u001b[0m month_name \u001b[39m=\u001b[39m constants\u001b[39m.\u001b[39;49mmonths[publication_date_text[\u001b[39m1\u001b[39m]]\n\u001b[1;32m     <a href='vscode-notebook-cell://wsl%2Bubuntu/home/pawel/job_search_app/jupyter%20notebooks/pracuj.ipynb#W2sdnNjb2RlLXJlbW90ZQ%3D%3D?line=26'>27</a>\u001b[0m \u001b[39m# change polish name of month to number ex. sierpnia to 8\u001b[39;00m\n\u001b[1;32m     <a href='vscode-notebook-cell://wsl%2Bubuntu/home/pawel/job_search_app/jupyter%20notebooks/pracuj.ipynb#W2sdnNjb2RlLXJlbW90ZQ%3D%3D?line=27'>28</a>\u001b[0m publication_date_text[\u001b[39m1\u001b[39m] \u001b[39m=\u001b[39m \u001b[39mstr\u001b[39m(month_name)\n",
      "\u001b[0;31mAttributeError\u001b[0m: module 'constants' has no attribute 'months'"
     ]
    }
   ],
   "source": [
    "pracuj_list = pracuj_page_job_offers()\n",
    "df_raw = pd.DataFrame.from_records(pracuj_list)\n",
    "df = df_raw.copy()\n",
    "df.drop_duplicates(subset=['company', 'title'], inplace=True, ignore_index=True)"
   ]
  },
  {
   "cell_type": "code",
   "execution_count": 25,
   "metadata": {},
   "outputs": [
    {
     "data": {
      "text/html": [
       "<div>\n",
       "<style scoped>\n",
       "    .dataframe tbody tr th:only-of-type {\n",
       "        vertical-align: middle;\n",
       "    }\n",
       "\n",
       "    .dataframe tbody tr th {\n",
       "        vertical-align: top;\n",
       "    }\n",
       "\n",
       "    .dataframe thead th {\n",
       "        text-align: right;\n",
       "    }\n",
       "</style>\n",
       "<table border=\"1\" class=\"dataframe\">\n",
       "  <thead>\n",
       "    <tr style=\"text-align: right;\">\n",
       "      <th></th>\n",
       "    </tr>\n",
       "  </thead>\n",
       "  <tbody>\n",
       "  </tbody>\n",
       "</table>\n",
       "</div>"
      ],
      "text/plain": [
       "Empty DataFrame\n",
       "Columns: []\n",
       "Index: []"
      ]
     },
     "execution_count": 25,
     "metadata": {},
     "output_type": "execute_result"
    }
   ],
   "source": [
    "df"
   ]
  },
  {
   "cell_type": "code",
   "execution_count": null,
   "metadata": {},
   "outputs": [
    {
     "data": {
      "text/plain": [
       "['publication_date', 'company', 'title', 'position', 'link_url', 'website']"
      ]
     },
     "execution_count": 9,
     "metadata": {},
     "output_type": "execute_result"
    }
   ],
   "source": [
    "list(pracuj_list[0].keys())\n"
   ]
  }
 ],
 "metadata": {
  "kernelspec": {
   "display_name": "Python 3.9.12 ('env': venv)",
   "language": "python",
   "name": "python3"
  },
  "language_info": {
   "codemirror_mode": {
    "name": "ipython",
    "version": 3
   },
   "file_extension": ".py",
   "mimetype": "text/x-python",
   "name": "python",
   "nbconvert_exporter": "python",
   "pygments_lexer": "ipython3",
   "version": "3.9.12"
  },
  "orig_nbformat": 4,
  "vscode": {
   "interpreter": {
    "hash": "da286e30edad18919dcd319d76121a5e0431005884e742e00954fdeb9b06d7d4"
   }
  }
 },
 "nbformat": 4,
 "nbformat_minor": 2
}
