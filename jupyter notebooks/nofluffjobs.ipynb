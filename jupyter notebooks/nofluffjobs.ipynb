{
 "cells": [
  {
   "cell_type": "code",
   "execution_count": 1,
   "metadata": {},
   "outputs": [],
   "source": [
    "import requests\n",
    "from bs4 import BeautifulSoup\n",
    "import re\n",
    "from datetime import datetime, timedelta"
   ]
  },
  {
   "cell_type": "code",
   "execution_count": 2,
   "metadata": {},
   "outputs": [],
   "source": [
    "def nofluffjobs_page_job_offers() -> list:\n",
    "\n",
    "    nofluffjobs_list = list()\n",
    "    \n",
    "\n",
    "    url = \"https://nofluffjobs.com/pl/praca-zdalna/python?criteria=city%3Dwarszawa%20seniority%3Dtrainee,junior%20%20salary<pln12000m&page=1\"\n",
    "   \n",
    "    flag = True\n",
    "    try:\n",
    "        page = requests.get(url)\n",
    "    except requests.exceptions.ConnectionError as err:\n",
    "        flag = False\n",
    "    if flag:\n",
    "        soup = BeautifulSoup(page.content, \"html.parser\")\n",
    "        \n",
    "        for job_element in soup.select('a[class*=\"posting-list-item posting-list-item--\"]'):\n",
    "            \n",
    "            \n",
    "            nofluffjobs_dict = dict()\n",
    "            company_element = job_element.find(\"span\", class_=\"d-block posting-title__company text-truncate\")\n",
    "            job_title_element = job_element.find(\"h3\", class_=\"posting-title__position text-truncate color-main ng-star-inserted\")\n",
    "            if \"Fullstack\" not in job_title_element.text and \"DevOps\" not in job_title_element.text and \"Golang\" not in job_title_element.text:\n",
    "                link_url = \"https://nofluffjobs.com\" + job_element[\"href\"]\n",
    "                pattern = re.compile(r'https?://([\\w.\\.\\-]+)')\n",
    "                website_name = pattern.match(link_url)\n",
    "                page_job_element = requests.get(link_url)\n",
    "                soup_page = BeautifulSoup(page_job_element.content, \"html.parser\")\n",
    "                position = soup_page.find(\"span\", class_=\"mr-10 font-weight-medium\")\n",
    "                publication_date_element = soup_page.find(\"div\", class_=\"posting-time-row\")\n",
    "                \n",
    "                days_after_publication = re.findall(r'\\b\\d+\\b', publication_date_element.text.strip())\n",
    "                if len(days_after_publication) == 0:\n",
    "                    publication_date = datetime.today().strftime(\"%Y-%m-%d\")\n",
    "                \n",
    "                else:\n",
    "                    publication_date = (datetime.today() - (timedelta(days=int(days_after_publication[0])))).strftime(\"%Y-%m-%d\")\n",
    "                        \n",
    "                nofluffjobs_dict[\"publication_date\"] = publication_date\n",
    "                nofluffjobs_dict[\"company\"] = company_element.text.strip()\n",
    "                nofluffjobs_dict[\"title\"] = job_title_element.text.strip()\n",
    "                nofluffjobs_dict[\"position\"] = position.text.strip()\n",
    "                nofluffjobs_dict[\"link_url\"] = link_url\n",
    "                nofluffjobs_dict[\"website\"] = website_name[0]\n",
    "\n",
    "                nofluffjobs_list.append(nofluffjobs_dict)\n",
    "    return nofluffjobs_list\n"
   ]
  },
  {
   "cell_type": "code",
   "execution_count": 3,
   "metadata": {},
   "outputs": [],
   "source": [
    "import pandas as pd\n",
    "import numpy as np\n",
    "\n",
    "nofluffjobs_list = nofluffjobs_page_job_offers()\n",
    "df_raw = pd.DataFrame.from_records(nofluffjobs_list)\n",
    "df = df_raw.copy()\n",
    "df['publication_date'] = pd.to_datetime(df['publication_date'], infer_datetime_format=True)\n",
    "df.drop_duplicates(subset=['publication_date', 'company', 'title'], inplace=True, ignore_index=True)\n",
    "\n",
    "\n"
   ]
  },
  {
   "cell_type": "markdown",
   "metadata": {},
   "source": [
    "## WSTAW SOBIE TU TEKST"
   ]
  },
  {
   "cell_type": "code",
   "execution_count": 4,
   "metadata": {},
   "outputs": [
    {
     "data": {
      "text/html": [
       "<div>\n",
       "<style scoped>\n",
       "    .dataframe tbody tr th:only-of-type {\n",
       "        vertical-align: middle;\n",
       "    }\n",
       "\n",
       "    .dataframe tbody tr th {\n",
       "        vertical-align: top;\n",
       "    }\n",
       "\n",
       "    .dataframe thead th {\n",
       "        text-align: right;\n",
       "    }\n",
       "</style>\n",
       "<table border=\"1\" class=\"dataframe\">\n",
       "  <thead>\n",
       "    <tr style=\"text-align: right;\">\n",
       "      <th></th>\n",
       "      <th>publication_date</th>\n",
       "      <th>company</th>\n",
       "      <th>title</th>\n",
       "      <th>position</th>\n",
       "      <th>link_url</th>\n",
       "      <th>website</th>\n",
       "    </tr>\n",
       "  </thead>\n",
       "  <tbody>\n",
       "    <tr>\n",
       "      <th>0</th>\n",
       "      <td>2022-08-25</td>\n",
       "      <td>Devire</td>\n",
       "      <td>Python Developer (Data Science)</td>\n",
       "      <td>Junior</td>\n",
       "      <td>https://nofluffjobs.com/pl/job/python-develope...</td>\n",
       "      <td>https://nofluffjobs.com</td>\n",
       "    </tr>\n",
       "    <tr>\n",
       "      <th>1</th>\n",
       "      <td>2022-08-18</td>\n",
       "      <td>Amartus Polska Sp. z o.o.</td>\n",
       "      <td>Junior Phyton Developer</td>\n",
       "      <td>Junior</td>\n",
       "      <td>https://nofluffjobs.com/pl/job/junior-phyton-d...</td>\n",
       "      <td>https://nofluffjobs.com</td>\n",
       "    </tr>\n",
       "    <tr>\n",
       "      <th>2</th>\n",
       "      <td>2022-08-18</td>\n",
       "      <td>IDEA team within Narodowe Centrum Badań Jądrowych</td>\n",
       "      <td>Junior Python Developer</td>\n",
       "      <td>Junior</td>\n",
       "      <td>https://nofluffjobs.com/pl/job/junior-python-d...</td>\n",
       "      <td>https://nofluffjobs.com</td>\n",
       "    </tr>\n",
       "    <tr>\n",
       "      <th>3</th>\n",
       "      <td>2022-08-26</td>\n",
       "      <td>Webinterpret</td>\n",
       "      <td>Junior Data Scientist</td>\n",
       "      <td>Junior</td>\n",
       "      <td>https://nofluffjobs.com/pl/job/junior-data-sci...</td>\n",
       "      <td>https://nofluffjobs.com</td>\n",
       "    </tr>\n",
       "    <tr>\n",
       "      <th>4</th>\n",
       "      <td>2022-08-24</td>\n",
       "      <td>Formeld Poland</td>\n",
       "      <td>Remote Junior Test Engineer with German</td>\n",
       "      <td>Junior</td>\n",
       "      <td>https://nofluffjobs.com/pl/job/remote-junior-t...</td>\n",
       "      <td>https://nofluffjobs.com</td>\n",
       "    </tr>\n",
       "    <tr>\n",
       "      <th>5</th>\n",
       "      <td>2022-08-23</td>\n",
       "      <td>Sport Vision Technology sp. z o.o. sp. k.</td>\n",
       "      <td>Junior AI Developer</td>\n",
       "      <td>Junior</td>\n",
       "      <td>https://nofluffjobs.com/pl/job/junior-ai-devel...</td>\n",
       "      <td>https://nofluffjobs.com</td>\n",
       "    </tr>\n",
       "    <tr>\n",
       "      <th>6</th>\n",
       "      <td>2022-08-20</td>\n",
       "      <td>Deloitte Advisory</td>\n",
       "      <td>AI LAB</td>\n",
       "      <td>Trainee</td>\n",
       "      <td>https://nofluffjobs.com/pl/job/ai-lab-deloitte...</td>\n",
       "      <td>https://nofluffjobs.com</td>\n",
       "    </tr>\n",
       "    <tr>\n",
       "      <th>7</th>\n",
       "      <td>2022-08-27</td>\n",
       "      <td>Astrotectonic</td>\n",
       "      <td>Junior Data Scientist</td>\n",
       "      <td>Junior</td>\n",
       "      <td>https://nofluffjobs.com/pl/job/junior-data-sci...</td>\n",
       "      <td>https://nofluffjobs.com</td>\n",
       "    </tr>\n",
       "  </tbody>\n",
       "</table>\n",
       "</div>"
      ],
      "text/plain": [
       "  publication_date                                            company  \\\n",
       "0       2022-08-25                                             Devire   \n",
       "1       2022-08-18                          Amartus Polska Sp. z o.o.   \n",
       "2       2022-08-18  IDEA team within Narodowe Centrum Badań Jądrowych   \n",
       "3       2022-08-26                                       Webinterpret   \n",
       "4       2022-08-24                                     Formeld Poland   \n",
       "5       2022-08-23          Sport Vision Technology sp. z o.o. sp. k.   \n",
       "6       2022-08-20                                  Deloitte Advisory   \n",
       "7       2022-08-27                                      Astrotectonic   \n",
       "\n",
       "                                     title position  \\\n",
       "0          Python Developer (Data Science)   Junior   \n",
       "1                  Junior Phyton Developer   Junior   \n",
       "2                  Junior Python Developer   Junior   \n",
       "3                    Junior Data Scientist   Junior   \n",
       "4  Remote Junior Test Engineer with German   Junior   \n",
       "5                      Junior AI Developer   Junior   \n",
       "6                                   AI LAB  Trainee   \n",
       "7                    Junior Data Scientist   Junior   \n",
       "\n",
       "                                            link_url                  website  \n",
       "0  https://nofluffjobs.com/pl/job/python-develope...  https://nofluffjobs.com  \n",
       "1  https://nofluffjobs.com/pl/job/junior-phyton-d...  https://nofluffjobs.com  \n",
       "2  https://nofluffjobs.com/pl/job/junior-python-d...  https://nofluffjobs.com  \n",
       "3  https://nofluffjobs.com/pl/job/junior-data-sci...  https://nofluffjobs.com  \n",
       "4  https://nofluffjobs.com/pl/job/remote-junior-t...  https://nofluffjobs.com  \n",
       "5  https://nofluffjobs.com/pl/job/junior-ai-devel...  https://nofluffjobs.com  \n",
       "6  https://nofluffjobs.com/pl/job/ai-lab-deloitte...  https://nofluffjobs.com  \n",
       "7  https://nofluffjobs.com/pl/job/junior-data-sci...  https://nofluffjobs.com  "
      ]
     },
     "execution_count": 4,
     "metadata": {},
     "output_type": "execute_result"
    }
   ],
   "source": [
    "df"
   ]
  },
  {
   "cell_type": "code",
   "execution_count": 6,
   "metadata": {},
   "outputs": [
    {
     "data": {
      "text/plain": [
       "Index(['publication_date', 'company', 'title', 'position', 'link_url',\n",
       "       'website'],\n",
       "      dtype='object')"
      ]
     },
     "execution_count": 6,
     "metadata": {},
     "output_type": "execute_result"
    }
   ],
   "source": [
    "df.columns"
   ]
  }
 ],
 "metadata": {
  "kernelspec": {
   "display_name": "Python 3.9.12 ('env': venv)",
   "language": "python",
   "name": "python3"
  },
  "language_info": {
   "codemirror_mode": {
    "name": "ipython",
    "version": 3
   },
   "file_extension": ".py",
   "mimetype": "text/x-python",
   "name": "python",
   "nbconvert_exporter": "python",
   "pygments_lexer": "ipython3",
   "version": "3.9.12"
  },
  "orig_nbformat": 4,
  "vscode": {
   "interpreter": {
    "hash": "da286e30edad18919dcd319d76121a5e0431005884e742e00954fdeb9b06d7d4"
   }
  }
 },
 "nbformat": 4,
 "nbformat_minor": 2
}
