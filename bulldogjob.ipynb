{
 "cells": [
  {
   "cell_type": "code",
   "execution_count": 6,
   "metadata": {},
   "outputs": [],
   "source": [
    "import requests\n",
    "from bs4 import BeautifulSoup\n",
    "import re\n",
    "from datetime import datetime, timedelta"
   ]
  },
  {
   "cell_type": "code",
   "execution_count": 36,
   "metadata": {},
   "outputs": [],
   "source": [
    "def bulldog_page_job_offers() -> list:\n",
    "\n",
    "    bulldog_list = list()\n",
    "\n",
    "    url = \"https://bulldogjob.pl/companies/jobs/s/city,Warszawa,Wrocław,Remote/skills,Python/experienceLevel,junior\"\n",
    "    flag = True\n",
    "    try:\n",
    "        page = requests.get(url)\n",
    "    except requests.exceptions.ConnectionError as err:\n",
    "        flag = False\n",
    "    if flag:\n",
    "        page = requests.get(url)\n",
    "        soup = BeautifulSoup(page.content, \"html.parser\")\n",
    "        results = soup.find(id=\"__next\")\n",
    "        job_elements = results.find_all(\n",
    "            \"div\",\n",
    "            class_=\"py-6 md:py-8 px-8 flex flex-wrap relative bg-white mb-2 rounded-lg shadow\",\n",
    "        )\n",
    "\n",
    "        for job_element in job_elements:\n",
    "            bulldog_dict = dict()\n",
    "            job_title_element = job_element.find(\n",
    "                \"h3\", class_=\"text-c28 font-medium mb-3 w-full md:hidden\"\n",
    "            )\n",
    "            if (\n",
    "                \"Fullstack\" not in job_title_element.text\n",
    "                and \"DevOps\" not in job_title_element.text\n",
    "                and \"Test\" not in job_title_element.text\n",
    "            ):\n",
    "                position_element = job_element.find(\n",
    "                    \"p\", class_=\"tracking-05 uppercase md:my-4\"\n",
    "                )\n",
    "\n",
    "                company_element = job_element.find(\n",
    "                    \"p\",\n",
    "                    class_=\"text-sm md:text-xxs md:text-center my-2 font-medium text-gray-300\",\n",
    "                )\n",
    "\n",
    "                links = job_element.find(\n",
    "                    \"h3\", class_=\"text-c28 font-medium mb-3 w-full md:hidden\"\n",
    "                )\n",
    "\n",
    "                for link in links:\n",
    "                    link_url = link[\"href\"]\n",
    "                pattern = re.compile(r'https?://([\\w.\\.\\-]+)')\n",
    "                website_name = pattern.match(link_url)\n",
    "                page_job_element = requests.get(link_url)\n",
    "                soup_page = BeautifulSoup(page_job_element.content, \"html.parser\")\n",
    "                publication_date_element = soup_page.find(\n",
    "                    \"p\", class_=\"text-gray-300 text-xs xl:text-sm mb-0.5\"\n",
    "                )\n",
    "                days_after_publication = int(\n",
    "                    re.findall(r\"\\b\\d+\\b\", publication_date_element.text.strip())[0]\n",
    "                )\n",
    "                publication_date = (\n",
    "                    datetime.today() - (timedelta(days=days_after_publication))\n",
    "                ).strftime(\"%Y-%m-%d\")\n",
    "\n",
    "                bulldog_dict[\"publication_date\"] = publication_date\n",
    "                bulldog_dict[\"company\"] = company_element.text.strip()\n",
    "                bulldog_dict[\"title\"] = job_title_element.text.strip()\n",
    "                bulldog_dict[\"position\"] = position_element.text.strip().capitalize()\n",
    "                bulldog_dict[\"link_url\"] = link_url\n",
    "                bulldog_dict[\"website\"] = website_name[0]\n",
    "                bulldog_list.append(bulldog_dict)\n",
    "    return bulldog_list\n"
   ]
  },
  {
   "cell_type": "code",
   "execution_count": 37,
   "metadata": {},
   "outputs": [],
   "source": [
    "import pandas as pd\n",
    "import numpy as np\n",
    "\n",
    "bulldog_list = bulldog_page_job_offers()\n",
    "df_raw = pd.DataFrame.from_records(bulldog_list)\n",
    "df = df_raw.copy()\n",
    "df['publication_date'] = pd.to_datetime(df['publication_date'], infer_datetime_format=True)\n",
    "df.drop_duplicates(subset=['publication_date', 'company', 'title'], inplace=True, ignore_index=True)"
   ]
  },
  {
   "cell_type": "code",
   "execution_count": 41,
   "metadata": {},
   "outputs": [
    {
     "data": {
      "text/plain": [
       "array([<re.Match object; span=(0, 21), match='https://bulldogjob.pl'>],\n",
       "      dtype=object)"
      ]
     },
     "execution_count": 41,
     "metadata": {},
     "output_type": "execute_result"
    }
   ],
   "source": [
    "df['website'].values"
   ]
  },
  {
   "cell_type": "code",
   "execution_count": null,
   "metadata": {},
   "outputs": [],
   "source": []
  }
 ],
 "metadata": {
  "kernelspec": {
   "display_name": "Python 3.9.12 ('env': venv)",
   "language": "python",
   "name": "python3"
  },
  "language_info": {
   "codemirror_mode": {
    "name": "ipython",
    "version": 3
   },
   "file_extension": ".py",
   "mimetype": "text/x-python",
   "name": "python",
   "nbconvert_exporter": "python",
   "pygments_lexer": "ipython3",
   "version": "3.9.12"
  },
  "orig_nbformat": 4,
  "vscode": {
   "interpreter": {
    "hash": "da286e30edad18919dcd319d76121a5e0431005884e742e00954fdeb9b06d7d4"
   }
  }
 },
 "nbformat": 4,
 "nbformat_minor": 2
}
