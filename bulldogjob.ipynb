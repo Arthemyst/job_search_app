{
 "cells": [
  {
   "cell_type": "code",
   "execution_count": 28,
   "metadata": {},
   "outputs": [],
   "source": [
    "import requests\n",
    "from bs4 import BeautifulSoup\n",
    "import re\n",
    "from datetime import datetime, timedelta"
   ]
  },
  {
   "cell_type": "code",
   "execution_count": 33,
   "metadata": {},
   "outputs": [],
   "source": [
    "def bulldog_page_job_offers() -> list:\n",
    "\n",
    "    bulldog_list = list()\n",
    "\n",
    "    url = \"https://bulldogjob.pl/companies/jobs/s/city,Warszawa,Wrocław,Remote/skills,Python/experienceLevel,junior\"\n",
    "\n",
    "    page = requests.get(url)\n",
    "    soup = BeautifulSoup(page.content, \"html.parser\")\n",
    "    results = soup.find(id=\"__next\")\n",
    "    job_elements = results.find_all(\"div\", class_=\"py-6 md:py-8 px-8 flex flex-wrap relative bg-white mb-2 rounded-lg shadow\")\n",
    "    \n",
    "    for job_element in job_elements:\n",
    "        bulldog_dict = dict()\n",
    "        job_title_element = job_element.find(\"h3\", class_=\"text-c28 font-medium mb-3 w-full md:hidden\")\n",
    "        if \"Fullstack\" not in job_title_element.text and \"DevOps\" not in job_title_element.text and \"Test\" not in job_title_element.text:\n",
    "            position_element = job_element.find(\"p\", class_=\"tracking-05 uppercase md:my-4\")\n",
    "            \n",
    "            company_element = job_element.find(\"p\", class_=\"text-sm md:text-xxs md:text-center my-2 font-medium text-gray-300\")\n",
    "            job_types_element = job_element.find(\"p\", class_=\"font-medium mb-4 md:my-4 flex flex-wrap items-center\")\n",
    "            links = job_element.find(\"h3\", class_=\"text-c28 font-medium mb-3 w-full md:hidden\")\n",
    "            \n",
    "            for link in links:\n",
    "                link_url = link[\"href\"]\n",
    "            page_job_element = requests.get(link_url)\n",
    "            soup_page = BeautifulSoup(page_job_element.content, \"html.parser\")\n",
    "            publication_date_element = soup_page.find(\"p\", class_=\"text-gray-300 text-xs xl:text-sm mb-0.5\")\n",
    "            days_after_publication = int(re.findall(r'\\b\\d+\\b', publication_date_element.text.strip())[0])\n",
    "            publication_date = (datetime.today() - (timedelta(days=days_after_publication))).strftime(\"%Y-%m-%d\")\n",
    "\n",
    "            bulldog_dict[\"publication_date\"] = publication_date\n",
    "            bulldog_dict[\"company\"] = company_element.text.strip()\n",
    "            bulldog_dict[\"title\"] = job_title_element.text.strip()\n",
    "            bulldog_dict[\"position\"] = position_element.text.strip().capitalize()\n",
    "            bulldog_dict[\"link_url\"] = link_url\n",
    "            bulldog_list.append(bulldog_dict)\n",
    "    return bulldog_list\n"
   ]
  },
  {
   "cell_type": "code",
   "execution_count": 37,
   "metadata": {},
   "outputs": [],
   "source": [
    "import pandas as pd\n",
    "import numpy as np\n",
    "\n",
    "bulldog_list = bulldog_page_job_offers()\n",
    "df_raw = pd.DataFrame.from_records(bulldog_list)\n",
    "df = df_raw.copy()\n",
    "df['publication_date'] = pd.to_datetime(df['publication_date'], infer_datetime_format=True)\n",
    "df.drop_duplicates(subset=['publication_date', 'company', 'title'], inplace=True, ignore_index=True)"
   ]
  },
  {
   "cell_type": "code",
   "execution_count": 38,
   "metadata": {},
   "outputs": [
    {
     "data": {
      "text/html": [
       "<div>\n",
       "<style scoped>\n",
       "    .dataframe tbody tr th:only-of-type {\n",
       "        vertical-align: middle;\n",
       "    }\n",
       "\n",
       "    .dataframe tbody tr th {\n",
       "        vertical-align: top;\n",
       "    }\n",
       "\n",
       "    .dataframe thead th {\n",
       "        text-align: right;\n",
       "    }\n",
       "</style>\n",
       "<table border=\"1\" class=\"dataframe\">\n",
       "  <thead>\n",
       "    <tr style=\"text-align: right;\">\n",
       "      <th></th>\n",
       "      <th>publication_date</th>\n",
       "      <th>company</th>\n",
       "      <th>title</th>\n",
       "      <th>position</th>\n",
       "      <th>link_url</th>\n",
       "    </tr>\n",
       "  </thead>\n",
       "  <tbody>\n",
       "    <tr>\n",
       "      <th>0</th>\n",
       "      <td>2022-08-12</td>\n",
       "      <td>Bertek Sp. z o.o.</td>\n",
       "      <td>Junior Python Developer</td>\n",
       "      <td>Junior</td>\n",
       "      <td>https://bulldogjob.pl/companies/jobs/113373-ju...</td>\n",
       "    </tr>\n",
       "  </tbody>\n",
       "</table>\n",
       "</div>"
      ],
      "text/plain": [
       "  publication_date            company                    title position  \\\n",
       "0       2022-08-12  Bertek Sp. z o.o.  Junior Python Developer   Junior   \n",
       "\n",
       "                                            link_url  \n",
       "0  https://bulldogjob.pl/companies/jobs/113373-ju...  "
      ]
     },
     "execution_count": 38,
     "metadata": {},
     "output_type": "execute_result"
    }
   ],
   "source": [
    "df"
   ]
  }
 ],
 "metadata": {
  "kernelspec": {
   "display_name": "Python 3.9.12 ('env': venv)",
   "language": "python",
   "name": "python3"
  },
  "language_info": {
   "codemirror_mode": {
    "name": "ipython",
    "version": 3
   },
   "file_extension": ".py",
   "mimetype": "text/x-python",
   "name": "python",
   "nbconvert_exporter": "python",
   "pygments_lexer": "ipython3",
   "version": "3.9.12"
  },
  "orig_nbformat": 4,
  "vscode": {
   "interpreter": {
    "hash": "da286e30edad18919dcd319d76121a5e0431005884e742e00954fdeb9b06d7d4"
   }
  }
 },
 "nbformat": 4,
 "nbformat_minor": 2
}
