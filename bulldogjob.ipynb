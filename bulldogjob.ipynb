{
 "cells": [
  {
   "cell_type": "code",
   "execution_count": 178,
   "metadata": {},
   "outputs": [],
   "source": [
    "import requests\n",
    "from bs4 import BeautifulSoup\n",
    "\n",
    "url = \"https://bulldogjob.pl/companies/jobs/s/city,Warszawa,Wrocław,Remote/skills,Python/experienceLevel,medium,junior\"\n",
    "\n",
    "page = requests.get(url)\n",
    "soup = BeautifulSoup(page.content, \"html.parser\")\n"
   ]
  },
  {
   "cell_type": "code",
   "execution_count": 179,
   "metadata": {},
   "outputs": [],
   "source": [
    "results = soup.find(id=\"__next\")"
   ]
  },
  {
   "cell_type": "code",
   "execution_count": 180,
   "metadata": {},
   "outputs": [],
   "source": [
    "page_count = results.find(\"ul\", class_=\"flex justify-center items-center my-10 pagination-bar\")\n",
    "page_list = list(page_count.text)"
   ]
  },
  {
   "cell_type": "code",
   "execution_count": 181,
   "metadata": {},
   "outputs": [
    {
     "data": {
      "text/plain": [
       "['1', '2']"
      ]
     },
     "execution_count": 181,
     "metadata": {},
     "output_type": "execute_result"
    }
   ],
   "source": [
    "page_list"
   ]
  },
  {
   "cell_type": "code",
   "execution_count": 133,
   "metadata": {},
   "outputs": [],
   "source": [
    "job_elements = results.find_all(\"div\", class_=\"py-6 md:py-8 px-8 flex flex-wrap relative bg-white mb-2 rounded-lg shadow\")"
   ]
  },
  {
   "cell_type": "code",
   "execution_count": 169,
   "metadata": {},
   "outputs": [],
   "source": [
    "bulldog_dict = dict(dict())\n",
    "id_counter = 1\n",
    "for page in page_list:\n",
    "    url = f\"https://bulldogjob.pl/companies/jobs/s/city,Warszawa,Wrocław,Remote/skills,Python/page,{page}\"\n",
    "\n",
    "    page = requests.get(url)\n",
    "    soup = BeautifulSoup(page.content, \"html.parser\")\n",
    "\n",
    "    for job_element in job_elements:\n",
    "        company_element = job_element.find(\"p\", class_=\"text-sm md:text-xxs md:text-center my-2 font-medium text-gray-300\")\n",
    "        job_title_element = job_element.find(\"h3\", class_=\"text-c28 font-medium mb-3 w-full md:hidden\")\n",
    "        position_element = job_element.find(\"p\", class_=\"tracking-05 uppercase md:my-4\")\n",
    "        job_types_element = job_element.find(\"p\", class_=\"font-medium mb-4 md:my-4 flex flex-wrap items-center\")\n",
    "        links = job_element.find(\"h3\", class_=\"text-c28 font-medium mb-3 w-full md:hidden\")\n",
    "        \n",
    "        for link in links:\n",
    "            link_url = link[\"href\"]\n",
    "        page_job_element = requests.get(link_url)\n",
    "        soup_page = BeautifulSoup(page_job_element.content, \"html.parser\")\n",
    "        date_of_end = soup_page.find(\"p\", class_=\"text-md xl:text-c22 leading-6\")\n",
    "        if position_element.text.strip() == \"junior\":\n",
    "            bulldog_dict[id_counter] = {}\n",
    "            bulldog_dict[id_counter][\"date of end\"] = date_of_end.text.strip()\n",
    "            bulldog_dict[id_counter][\"company\"] = company_element.text.strip()\n",
    "            bulldog_dict[id_counter][\"title\"] = job_title_element.text.strip()\n",
    "            bulldog_dict[id_counter][\"position\"] = position_element.text.strip()\n",
    "            bulldog_dict[id_counter][\"link_url\"] = link_url\n",
    "\n",
    "\n",
    "\n",
    "            id_counter += 1\n"
   ]
  },
  {
   "cell_type": "code",
   "execution_count": 176,
   "metadata": {},
   "outputs": [],
   "source": [
    "bulldog_dict = dict(dict())\n",
    "id_counter = 1\n",
    "\n",
    "url = f\"https://bulldogjob.pl/companies/jobs/s/city,Warszawa,Wrocław,Remote/skills,Python/experienceLevel,medium,junior/page,2\"\n",
    "\n",
    "page = requests.get(url)\n",
    "soup = BeautifulSoup(page.content, \"html.parser\")\n",
    "\n",
    "for job_element in job_elements:\n",
    "    company_element = job_element.find(\"p\", class_=\"text-sm md:text-xxs md:text-center my-2 font-medium text-gray-300\")\n",
    "    job_title_element = job_element.find(\"h3\", class_=\"text-c28 font-medium mb-3 w-full md:hidden\")\n",
    "    position_element = job_element.find(\"p\", class_=\"tracking-05 uppercase md:my-4\")\n",
    "    job_types_element = job_element.find(\"p\", class_=\"font-medium mb-4 md:my-4 flex flex-wrap items-center\")\n",
    "    links = job_element.find(\"h3\", class_=\"text-c28 font-medium mb-3 w-full md:hidden\")\n",
    "    \n",
    "    for link in links:\n",
    "        link_url = link[\"href\"]\n",
    "    page_job_element = requests.get(link_url)\n",
    "    soup_page = BeautifulSoup(page_job_element.content, \"html.parser\")\n",
    "    date_of_end = soup_page.find(\"p\", class_=\"text-md xl:text-c22 leading-6\")\n",
    "    if position_element.text.strip() == \"junior\":\n",
    "        bulldog_dict[id_counter] = {}\n",
    "        bulldog_dict[id_counter][\"date of end\"] = date_of_end.text.strip()\n",
    "        bulldog_dict[id_counter][\"company\"] = company_element.text.strip()\n",
    "        bulldog_dict[id_counter][\"title\"] = job_title_element.text.strip()\n",
    "        bulldog_dict[id_counter][\"position\"] = position_element.text.strip()\n",
    "        bulldog_dict[id_counter][\"link_url\"] = link_url\n",
    "\n",
    "\n",
    "\n",
    "        id_counter += 1\n"
   ]
  },
  {
   "cell_type": "code",
   "execution_count": 177,
   "metadata": {},
   "outputs": [
    {
     "data": {
      "text/plain": [
       "{1: {'date of end': '7.09.2022',\n",
       "  'company': 'Sii Polska',\n",
       "  'title': 'Test Automation Engineer',\n",
       "  'position': 'junior',\n",
       "  'link_url': 'https://bulldogjob.pl/companies/jobs/118907-test-automation-engineer-gdansk-rzeszow-wroclaw-poznan-krakow-lodz-katowice-czestochowa-bydgoszcz-gliwice-bialystok-szczecin-kielce-torun-sii-polska'}}"
      ]
     },
     "execution_count": 177,
     "metadata": {},
     "output_type": "execute_result"
    }
   ],
   "source": [
    "bulldog_dict"
   ]
  },
  {
   "cell_type": "code",
   "execution_count": 136,
   "metadata": {},
   "outputs": [],
   "source": [
    "import pandas as pd\n",
    "import numpy as np"
   ]
  },
  {
   "cell_type": "code",
   "execution_count": 170,
   "metadata": {},
   "outputs": [],
   "source": [
    "df = pd.DataFrame.from_dict(bulldog_dict, orient=\"index\")\n",
    "#df['date of end'] = pd.to_datetime(df['date of end'], format='%d%m%y')"
   ]
  },
  {
   "cell_type": "code",
   "execution_count": 171,
   "metadata": {},
   "outputs": [
    {
     "data": {
      "text/html": [
       "<div>\n",
       "<style scoped>\n",
       "    .dataframe tbody tr th:only-of-type {\n",
       "        vertical-align: middle;\n",
       "    }\n",
       "\n",
       "    .dataframe tbody tr th {\n",
       "        vertical-align: top;\n",
       "    }\n",
       "\n",
       "    .dataframe thead th {\n",
       "        text-align: right;\n",
       "    }\n",
       "</style>\n",
       "<table border=\"1\" class=\"dataframe\">\n",
       "  <thead>\n",
       "    <tr style=\"text-align: right;\">\n",
       "      <th></th>\n",
       "      <th>date of end</th>\n",
       "      <th>company</th>\n",
       "      <th>title</th>\n",
       "      <th>position</th>\n",
       "      <th>link_url</th>\n",
       "    </tr>\n",
       "  </thead>\n",
       "  <tbody>\n",
       "    <tr>\n",
       "      <th>1</th>\n",
       "      <td>7.09.2022</td>\n",
       "      <td>Sii Polska</td>\n",
       "      <td>Test Automation Engineer</td>\n",
       "      <td>junior</td>\n",
       "      <td>https://bulldogjob.pl/companies/jobs/118907-te...</td>\n",
       "    </tr>\n",
       "    <tr>\n",
       "      <th>2</th>\n",
       "      <td>7.09.2022</td>\n",
       "      <td>Sii Polska</td>\n",
       "      <td>Test Automation Engineer</td>\n",
       "      <td>junior</td>\n",
       "      <td>https://bulldogjob.pl/companies/jobs/118907-te...</td>\n",
       "    </tr>\n",
       "    <tr>\n",
       "      <th>3</th>\n",
       "      <td>7.09.2022</td>\n",
       "      <td>Sii Polska</td>\n",
       "      <td>Test Automation Engineer</td>\n",
       "      <td>junior</td>\n",
       "      <td>https://bulldogjob.pl/companies/jobs/118907-te...</td>\n",
       "    </tr>\n",
       "  </tbody>\n",
       "</table>\n",
       "</div>"
      ],
      "text/plain": [
       "  date of end     company                     title position  \\\n",
       "1   7.09.2022  Sii Polska  Test Automation Engineer   junior   \n",
       "2   7.09.2022  Sii Polska  Test Automation Engineer   junior   \n",
       "3   7.09.2022  Sii Polska  Test Automation Engineer   junior   \n",
       "\n",
       "                                            link_url  \n",
       "1  https://bulldogjob.pl/companies/jobs/118907-te...  \n",
       "2  https://bulldogjob.pl/companies/jobs/118907-te...  \n",
       "3  https://bulldogjob.pl/companies/jobs/118907-te...  "
      ]
     },
     "execution_count": 171,
     "metadata": {},
     "output_type": "execute_result"
    }
   ],
   "source": [
    "df"
   ]
  },
  {
   "cell_type": "code",
   "execution_count": 139,
   "metadata": {},
   "outputs": [
    {
     "name": "stdout",
     "output_type": "stream",
     "text": [
      "<class 'pandas.core.frame.DataFrame'>\n",
      "Int64Index: 1 entries, 1 to 1\n",
      "Data columns (total 5 columns):\n",
      " #   Column       Non-Null Count  Dtype \n",
      "---  ------       --------------  ----- \n",
      " 0   date of end  1 non-null      object\n",
      " 1   company      1 non-null      object\n",
      " 2   title        1 non-null      object\n",
      " 3   position     1 non-null      object\n",
      " 4   link_url     1 non-null      object\n",
      "dtypes: object(5)\n",
      "memory usage: 48.0+ bytes\n"
     ]
    }
   ],
   "source": [
    "df.info()"
   ]
  },
  {
   "cell_type": "code",
   "execution_count": 140,
   "metadata": {},
   "outputs": [],
   "source": [
    "df['date of end'] = pd.to_datetime(df['date of end'], infer_datetime_format=True)"
   ]
  },
  {
   "cell_type": "code",
   "execution_count": 141,
   "metadata": {},
   "outputs": [
    {
     "data": {
      "text/html": [
       "<div>\n",
       "<style scoped>\n",
       "    .dataframe tbody tr th:only-of-type {\n",
       "        vertical-align: middle;\n",
       "    }\n",
       "\n",
       "    .dataframe tbody tr th {\n",
       "        vertical-align: top;\n",
       "    }\n",
       "\n",
       "    .dataframe thead th {\n",
       "        text-align: right;\n",
       "    }\n",
       "</style>\n",
       "<table border=\"1\" class=\"dataframe\">\n",
       "  <thead>\n",
       "    <tr style=\"text-align: right;\">\n",
       "      <th></th>\n",
       "      <th>date of end</th>\n",
       "      <th>company</th>\n",
       "      <th>title</th>\n",
       "      <th>position</th>\n",
       "      <th>link_url</th>\n",
       "    </tr>\n",
       "  </thead>\n",
       "  <tbody>\n",
       "    <tr>\n",
       "      <th>1</th>\n",
       "      <td>2022-07-09</td>\n",
       "      <td>Sii Polska</td>\n",
       "      <td>Test Automation Engineer</td>\n",
       "      <td>junior</td>\n",
       "      <td>https://bulldogjob.pl/companies/jobs/118907-te...</td>\n",
       "    </tr>\n",
       "  </tbody>\n",
       "</table>\n",
       "</div>"
      ],
      "text/plain": [
       "  date of end     company                     title position  \\\n",
       "1  2022-07-09  Sii Polska  Test Automation Engineer   junior   \n",
       "\n",
       "                                            link_url  \n",
       "1  https://bulldogjob.pl/companies/jobs/118907-te...  "
      ]
     },
     "execution_count": 141,
     "metadata": {},
     "output_type": "execute_result"
    }
   ],
   "source": [
    "df"
   ]
  },
  {
   "cell_type": "code",
   "execution_count": 142,
   "metadata": {},
   "outputs": [
    {
     "name": "stdout",
     "output_type": "stream",
     "text": [
      "<class 'pandas.core.frame.DataFrame'>\n",
      "Int64Index: 1 entries, 1 to 1\n",
      "Data columns (total 5 columns):\n",
      " #   Column       Non-Null Count  Dtype         \n",
      "---  ------       --------------  -----         \n",
      " 0   date of end  1 non-null      datetime64[ns]\n",
      " 1   company      1 non-null      object        \n",
      " 2   title        1 non-null      object        \n",
      " 3   position     1 non-null      object        \n",
      " 4   link_url     1 non-null      object        \n",
      "dtypes: datetime64[ns](1), object(4)\n",
      "memory usage: 48.0+ bytes\n"
     ]
    }
   ],
   "source": [
    "df.info()"
   ]
  }
 ],
 "metadata": {
  "kernelspec": {
   "display_name": "Python 3.9.12 ('env': venv)",
   "language": "python",
   "name": "python3"
  },
  "language_info": {
   "codemirror_mode": {
    "name": "ipython",
    "version": 3
   },
   "file_extension": ".py",
   "mimetype": "text/x-python",
   "name": "python",
   "nbconvert_exporter": "python",
   "pygments_lexer": "ipython3",
   "version": "3.9.12"
  },
  "orig_nbformat": 4,
  "vscode": {
   "interpreter": {
    "hash": "da286e30edad18919dcd319d76121a5e0431005884e742e00954fdeb9b06d7d4"
   }
  }
 },
 "nbformat": 4,
 "nbformat_minor": 2
}
